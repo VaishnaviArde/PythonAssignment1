{
 "cells": [
  {
   "cell_type": "markdown",
   "id": "ddc7e515-f90d-460b-b219-7c9b6a5f8057",
   "metadata": {},
   "source": [
    "##### What is 7 to the power of 4?"
   ]
  },
  {
   "cell_type": "code",
   "execution_count": 1,
   "id": "cccba3f3-c07a-481b-bb0a-ba3d8de36b7a",
   "metadata": {},
   "outputs": [
    {
     "data": {
      "text/plain": [
       "2401"
      ]
     },
     "execution_count": 1,
     "metadata": {},
     "output_type": "execute_result"
    }
   ],
   "source": [
    "7**4"
   ]
  },
  {
   "cell_type": "markdown",
   "id": "40776431-1f0b-40e8-ad0c-3b77ec986de7",
   "metadata": {},
   "source": [
    "##### Split this string:\n",
    "##### s = \"Hi there Yogesh!\"\r",
    "##### *into a list*"
   ]
  },
  {
   "cell_type": "code",
   "execution_count": 5,
   "id": "74c7e8b1-f28d-4dc9-a1c3-2bc860e9a52f",
   "metadata": {},
   "outputs": [],
   "source": [
    "s = \"Hi there Yogesh!\""
   ]
  },
  {
   "cell_type": "code",
   "execution_count": 7,
   "id": "5283c818-7154-4059-be64-71be03122414",
   "metadata": {},
   "outputs": [
    {
     "data": {
      "text/plain": [
       "['Hi', 'there', 'Yogesh!']"
      ]
     },
     "execution_count": 7,
     "metadata": {},
     "output_type": "execute_result"
    }
   ],
   "source": [
    "s.split()"
   ]
  },
  {
   "cell_type": "code",
   "execution_count": 11,
   "id": "894c1cee-8155-4cc9-99fa-b5873dd6d6dd",
   "metadata": {},
   "outputs": [
    {
     "data": {
      "text/plain": [
       "'The diameter of the Earth is 12742 kilometers'"
      ]
     },
     "execution_count": 11,
     "metadata": {},
     "output_type": "execute_result"
    }
   ],
   "source": [
    "\"The diameter of the {} is {} kilometers\".format(planet,diameter)"
   ]
  },
  {
   "cell_type": "markdown",
   "id": "d7d2fd10-0a0f-4adf-bf9e-cc215a7c85ac",
   "metadata": {},
   "source": [
    "#####  Given this nested list, use indexing to grab the word \"hello\" "
   ]
  },
  {
   "cell_type": "code",
   "execution_count": 13,
   "id": "65ceb370-45a2-45d2-ab71-56827ffc01d1",
   "metadata": {},
   "outputs": [],
   "source": [
    "lst = [1,2,[3,4],[5,[100,200,['hello']],23,11],1,7]"
   ]
  },
  {
   "cell_type": "code",
   "execution_count": 17,
   "id": "7f1aa3e6-fea6-4244-ab8a-5a967810f326",
   "metadata": {},
   "outputs": [
    {
     "data": {
      "text/plain": [
       "'hello'"
      ]
     },
     "execution_count": 17,
     "metadata": {},
     "output_type": "execute_result"
    }
   ],
   "source": [
    "lst[3][1][2][0]"
   ]
  },
  {
   "cell_type": "markdown",
   "id": "69b97153-93dd-40a9-a894-65014619f976",
   "metadata": {},
   "source": [
    "#####  Given this nested dictionary grab the word \"hello\". Be prepared, this will be annoying/tricky"
   ]
  },
  {
   "cell_type": "code",
   "execution_count": 19,
   "id": "33b72ae7-b11a-4768-8a8e-ec166c949ba2",
   "metadata": {},
   "outputs": [],
   "source": [
    "d = {'k1':[1,2,3,{'tricky':['oh','man','inception',{'target':[1,2,3,'hello']}]}]}"
   ]
  },
  {
   "cell_type": "code",
   "execution_count": 21,
   "id": "9503f33d-10fd-4058-9ecc-f21dec955565",
   "metadata": {},
   "outputs": [
    {
     "data": {
      "text/plain": [
       "'hello'"
      ]
     },
     "execution_count": 21,
     "metadata": {},
     "output_type": "execute_result"
    }
   ],
   "source": [
    "d['k1'][3]['tricky'][3]['target'][3]"
   ]
  },
  {
   "cell_type": "markdown",
   "id": "055052f9-bbae-4138-aea8-c6a2d919402c",
   "metadata": {},
   "source": [
    "##### What is the main difference between a tuple and a list?"
   ]
  },
  {
   "cell_type": "code",
   "execution_count": null,
   "id": "a0f0401b-dcbf-499f-a782-36cce6590e6f",
   "metadata": {},
   "outputs": [],
   "source": [
    "# Tuple is immutable and list is mutable"
   ]
  },
  {
   "cell_type": "markdown",
   "id": "548ff096-6ecd-4e5b-92fb-4662ac50e996",
   "metadata": {},
   "source": [
    "##### Create a function that grabs the email website domain from a string in the form:"
   ]
  },
  {
   "cell_type": "code",
   "execution_count": 27,
   "id": "718629ab-8c9e-48b0-a89c-4239841360da",
   "metadata": {},
   "outputs": [],
   "source": [
    "def find_domain(e):\n",
    "    return e.split('@')[-1]"
   ]
  },
  {
   "cell_type": "code",
   "execution_count": 29,
   "id": "591e8fa7-5c0f-4d2e-a064-0b31d657c0f9",
   "metadata": {},
   "outputs": [
    {
     "data": {
      "text/plain": [
       "'domain.com'"
      ]
     },
     "execution_count": 29,
     "metadata": {},
     "output_type": "execute_result"
    }
   ],
   "source": [
    "find_domain(\"user@domain.com\")"
   ]
  },
  {
   "cell_type": "markdown",
   "id": "4c9f6d9a-16bc-47b7-8fce-7746f9fff380",
   "metadata": {},
   "source": [
    "##### Create a basic function that returns True if the word 'dog' is contained in the input string. Don't worry about edge cases like a punctuation being attached to the word dog, but do account for capitalization."
   ]
  },
  {
   "cell_type": "code",
   "execution_count": 31,
   "id": "361f7cbf-a754-4b7a-b2a2-2ce9df8c3030",
   "metadata": {},
   "outputs": [],
   "source": [
    "def find_dog(d):\n",
    "    return 'dog' in d.lower()"
   ]
  },
  {
   "cell_type": "code",
   "execution_count": 35,
   "id": "cd26203d-9ef3-4656-b42f-1a3de1c30f68",
   "metadata": {},
   "outputs": [
    {
     "data": {
      "text/plain": [
       "True"
      ]
     },
     "execution_count": 35,
     "metadata": {},
     "output_type": "execute_result"
    }
   ],
   "source": [
    "find_dog(\"Is there a DOG here?\")"
   ]
  },
  {
   "cell_type": "markdown",
   "id": "99ea679d-feba-45fd-9951-6bc96a60e00c",
   "metadata": {},
   "source": [
    "##### Create a function that counts the number of times the word \"dog\" occurs in a string. Again ignore edge cases."
   ]
  },
  {
   "cell_type": "code",
   "execution_count": 37,
   "id": "d6087a20-bcab-4d91-926e-7cb1ced6bb87",
   "metadata": {},
   "outputs": [],
   "source": [
    "def countDog(a):\n",
    "    c = 0\n",
    "    for v in a.lower().split():\n",
    "        if v=='dog':\n",
    "            c=c+1\n",
    "    print(c)"
   ]
  },
  {
   "cell_type": "code",
   "execution_count": 41,
   "id": "05b81bd1-e637-4b5a-9961-f94b9356b717",
   "metadata": {},
   "outputs": [
    {
     "name": "stdout",
     "output_type": "stream",
     "text": [
      "2\n"
     ]
    }
   ],
   "source": [
    "countDog('This dog runs faster than the other dog dude!')"
   ]
  },
  {
   "cell_type": "markdown",
   "id": "279e5296-a5c7-4ac8-9346-b8f8d2c43c09",
   "metadata": {},
   "source": [
    "##### Use lambda expressions and the filter() function to filter out words from a list that don't start with the letter 's'. For example:"
   ]
  },
  {
   "cell_type": "code",
   "execution_count": 43,
   "id": "d72e3feb-391a-427c-87b8-8b17e4372e43",
   "metadata": {},
   "outputs": [],
   "source": [
    "seq = ['soup','dog','salad','cat','great']"
   ]
  },
  {
   "cell_type": "code",
   "execution_count": 47,
   "id": "134eeb5c-5f06-4e16-ba02-b04bc8c788e4",
   "metadata": {},
   "outputs": [
    {
     "data": {
      "text/plain": [
       "['dog', 'cat', 'great']"
      ]
     },
     "execution_count": 47,
     "metadata": {},
     "output_type": "execute_result"
    }
   ],
   "source": [
    "list(filter(lambda x:x[0] != 's',seq))"
   ]
  },
  {
   "cell_type": "markdown",
   "id": "190feda8-5b30-4166-8259-9e7c41afb364",
   "metadata": {},
   "source": [
    "##### You are driving a little too fast, and a police officer stops you. Write a function to return one of 3 possible results: \"No ticket\", \"Small ticket\", or \"Big Ticket\". If your speed is 60 or less, the result is \"No Ticket\". If speed is between 61 and 80 inclusive, the result is \"Small Ticket\". If speed is 81 or more, the result is \"Big Ticket\". Unless it is your birthday (encoded as a boolean value in the parameters of the function) -- on your birthday, your speed can be 5 higher in all cases. "
   ]
  },
  {
   "cell_type": "code",
   "execution_count": 49,
   "id": "07eb5150-66cd-4add-9c77-1d864c2ef6f6",
   "metadata": {},
   "outputs": [],
   "source": [
    "def catch_speed(speed,birthday):\n",
    "    if birthday == True:\n",
    "        new_speed = speed-5\n",
    "    else:\n",
    "        new_speed = speed\n",
    "    if new_speed > 80:\n",
    "        return \"Big Ticket\"\n",
    "    elif new_speed > 60:\n",
    "        return \"Small Ticket\"\n",
    "    else:\n",
    "        return \"No Ticket\""
   ]
  },
  {
   "cell_type": "code",
   "execution_count": 51,
   "id": "bb7173f2-4703-4497-94fb-00e03608913c",
   "metadata": {},
   "outputs": [
    {
     "data": {
      "text/plain": [
       "'Small Ticket'"
      ]
     },
     "execution_count": 51,
     "metadata": {},
     "output_type": "execute_result"
    }
   ],
   "source": [
    "catch_speed(84,True)"
   ]
  },
  {
   "cell_type": "code",
   "execution_count": 53,
   "id": "4dfdea11-2a2e-4156-8243-88caa23135c1",
   "metadata": {},
   "outputs": [
    {
     "data": {
      "text/plain": [
       "'Big Ticket'"
      ]
     },
     "execution_count": 53,
     "metadata": {},
     "output_type": "execute_result"
    }
   ],
   "source": [
    "catch_speed(82,False)"
   ]
  },
  {
   "cell_type": "markdown",
   "id": "8ba7fc55-7b87-4844-b9ee-7f018c24d5d9",
   "metadata": {},
   "source": [
    "##### Given a string print number num by extracting all the digits from the string as in string\n",
    "##### Print negative number if the first character in \n",
    "##### string is '-'\n",
    "##### eg. -123abcd should return -123,abcd456-->456,fdhfh78dsd89--->7889,-56dssd78-->-5678"
   ]
  },
  {
   "cell_type": "code",
   "execution_count": 59,
   "id": "32d4a6ec-5160-4a40-a823-7d447c348f25",
   "metadata": {},
   "outputs": [
    {
     "name": "stdin",
     "output_type": "stream",
     "text": [
      "Enter the number : -123abcd\n"
     ]
    },
    {
     "name": "stdout",
     "output_type": "stream",
     "text": [
      "-123\n"
     ]
    }
   ],
   "source": [
    "s = input(\"Enter the number :\")\n",
    "num = ''\n",
    "numbers=[0,1,2,3,4,5,6,7,8,9]\n",
    "if s[0]=='-':\n",
    "    num = num + s[0]\n",
    "for c in s:\n",
    "    if c in str(numbers):\n",
    "        num = num + c\n",
    "print(num)"
   ]
  },
  {
   "cell_type": "markdown",
   "id": "5506cfa3-2f37-41c2-85a3-2f4e672f6232",
   "metadata": {},
   "source": [
    "##### WAP to check whether a number is palindrome or not on following conditions.\n",
    "##### 1. take input number\n",
    "##### 2. add number and its reverse\n",
    "##### 3. check that number is palindrome or not,if not then sum and its reverse"
   ]
  },
  {
   "cell_type": "code",
   "execution_count": 61,
   "id": "6975500e-7813-44f7-8856-0957683844bf",
   "metadata": {},
   "outputs": [
    {
     "name": "stdin",
     "output_type": "stream",
     "text": [
      "enter a number : 88\n"
     ]
    },
    {
     "name": "stdout",
     "output_type": "stream",
     "text": [
      "Number is : 847\n",
      "Reverse is : 748\n",
      "Number is : 1595\n",
      "Reverse is : 5951\n",
      "Number is : 7546\n",
      "Reverse is : 6457\n",
      "Number is : 14003\n",
      "Reverse is : 30041\n",
      "Number is : 44044\n",
      "Reverse is : 44044\n",
      "Palindrome is: 44044\n"
     ]
    }
   ],
   "source": [
    "num1 = input(\"enter a number :\")\n",
    "num2 = int(num1[::-1])\n",
    "num3 = str(int(num1) + num2)\n",
    "num3 != num3[::-1]\n",
    "while num3 != num3[::-1]:\n",
    "    num3 = str(int(num3) + int(num3[::-1]))\n",
    "    print(\"Number is :\" ,num3)\n",
    "    print(\"Reverse is :\" ,num3[::-1])\n",
    "print(\"Palindrome is:\" ,num3)"
   ]
  },
  {
   "cell_type": "markdown",
   "id": "8a383d3d-e44a-4fc2-9041-3b4c9d45c483",
   "metadata": {},
   "source": [
    "##### Write a python function to find and display the five digit number in which the first digit is two more than the second,the second digit is two more than the third, the fourth digit is two less than the third, and the last digit is two more thanthe fourth.The sum of the third,fourth and fifth digits equals the first.The sum of all the digits is 19"
   ]
  },
  {
   "cell_type": "code",
   "execution_count": 79,
   "id": "75d7b514-c115-45e8-8474-23152419155f",
   "metadata": {},
   "outputs": [],
   "source": [
    "def find_five_digit_number():\n",
    "    for c in range (9,0,-1):\n",
    "        a = c + 4\n",
    "        b = c + 2\n",
    "        d = c - 2\n",
    "        e = c\n",
    "        if a + b + c + d + e == 19:\n",
    "            if a == c + d + e:\n",
    "                return int(str(a)+str(b)+str(c)+str(d)+str(e))"
   ]
  },
  {
   "cell_type": "code",
   "execution_count": 81,
   "id": "90a91b83-c351-469f-91d2-477e3d425099",
   "metadata": {},
   "outputs": [
    {
     "data": {
      "text/plain": [
       "75313"
      ]
     },
     "execution_count": 81,
     "metadata": {},
     "output_type": "execute_result"
    }
   ],
   "source": [
    "find_five_digit_number()"
   ]
  }
 ],
 "metadata": {
  "kernelspec": {
   "display_name": "Python 3 (ipykernel)",
   "language": "python",
   "name": "python3"
  },
  "language_info": {
   "codemirror_mode": {
    "name": "ipython",
    "version": 3
   },
   "file_extension": ".py",
   "mimetype": "text/x-python",
   "name": "python",
   "nbconvert_exporter": "python",
   "pygments_lexer": "ipython3",
   "version": "3.11.5"
  }
 },
 "nbformat": 4,
 "nbformat_minor": 5
}
